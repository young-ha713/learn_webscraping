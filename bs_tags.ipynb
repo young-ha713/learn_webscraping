{
 "cells": [
  {
   "cell_type": "code",
   "execution_count": 41,
   "id": "04e7f6dc",
   "metadata": {},
   "outputs": [],
   "source": [
    "from bs4 import BeautifulSoup"
   ]
  },
  {
   "cell_type": "code",
   "execution_count": 42,
   "id": "01e0dad7",
   "metadata": {},
   "outputs": [],
   "source": [
    "html = '''\n",
    "<html>\n",
    "    <head>\n",
    "    </head>\n",
    "    <body>\n",
    "        <h1> 우리동네시장</h1>\n",
    "            <div class = 'sale'>\n",
    "                <p id='fruits1' class='fruits'>\n",
    "                    <span class = 'name'> 바나나 </span>\n",
    "                    <span class = 'price'> 3000원 </span>\n",
    "                    <span class = 'inventory'> 500개 </span>\n",
    "                    <span class = 'store'> 가나다상회 </span>\n",
    "                    <a href = 'http://bit.ly/forPlaywithData' > 홈페이지 </a>\n",
    "                </p>\n",
    "            </div>\n",
    "            <div class = 'prepare'>\n",
    "                <p id='fruits2' class='fruits'>\n",
    "                    <span class ='name'> 파인애플 </span>\n",
    "                </p>\n",
    "            </div>\n",
    "    </body>\n",
    "</html>\n",
    "'''\n"
   ]
  },
  {
   "cell_type": "code",
   "execution_count": 43,
   "id": "4fcc55eb",
   "metadata": {},
   "outputs": [],
   "source": [
    "soup = BeautifulSoup(html,'html.parser')"
   ]
  },
  {
   "cell_type": "code",
   "execution_count": 44,
   "id": "f000c336",
   "metadata": {},
   "outputs": [],
   "source": [
    "span = soup.select('span')"
   ]
  },
  {
   "cell_type": "code",
   "execution_count": 45,
   "id": "7a234d94",
   "metadata": {},
   "outputs": [
    {
     "data": {
      "text/plain": [
       "(bs4.element.ResultSet,\n",
       " [<span class=\"name\"> 바나나 </span>,\n",
       "  <span class=\"price\"> 3000원 </span>,\n",
       "  <span class=\"inventory\"> 500개 </span>,\n",
       "  <span class=\"store\"> 가나다상회 </span>,\n",
       "  <span class=\"name\"> 파인애플 </span>])"
      ]
     },
     "execution_count": 45,
     "metadata": {},
     "output_type": "execute_result"
    }
   ],
   "source": [
    "type(span), span"
   ]
  },
  {
   "cell_type": "code",
   "execution_count": 46,
   "id": "33b69c52",
   "metadata": {},
   "outputs": [
    {
     "data": {
      "text/plain": [
       "<span class=\"name\"> 바나나 </span>"
      ]
     },
     "execution_count": 46,
     "metadata": {},
     "output_type": "execute_result"
    }
   ],
   "source": [
    "span [0]"
   ]
  },
  {
   "cell_type": "code",
   "execution_count": 47,
   "id": "21de89a7",
   "metadata": {},
   "outputs": [
    {
     "data": {
      "text/plain": [
       "<span class=\"name\"> 파인애플 </span>"
      ]
     },
     "execution_count": 47,
     "metadata": {},
     "output_type": "execute_result"
    }
   ],
   "source": [
    "span[-1]"
   ]
  },
  {
   "cell_type": "code",
   "execution_count": 48,
   "id": "fe6be187",
   "metadata": {},
   "outputs": [],
   "source": [
    "fruits = soup.select('#fruits1')"
   ]
  },
  {
   "cell_type": "code",
   "execution_count": 49,
   "id": "b6044f38",
   "metadata": {},
   "outputs": [
    {
     "data": {
      "text/plain": [
       "(bs4.element.ResultSet,\n",
       " [<p class=\"fruits\" id=\"fruits1\">\n",
       "  <span class=\"name\"> 바나나 </span>\n",
       "  <span class=\"price\"> 3000원 </span>\n",
       "  <span class=\"inventory\"> 500개 </span>\n",
       "  <span class=\"store\"> 가나다상회 </span>\n",
       "  <a href=\"http://bit.ly/forPlaywithData\"> 홈페이지 </a>\n",
       "  </p>])"
      ]
     },
     "execution_count": 49,
     "metadata": {},
     "output_type": "execute_result"
    }
   ],
   "source": [
    "type(fruits),fruits"
   ]
  },
  {
   "cell_type": "code",
   "execution_count": 50,
   "id": "44ec2c3b",
   "metadata": {},
   "outputs": [
    {
     "data": {
      "text/plain": [
       "1"
      ]
     },
     "execution_count": 50,
     "metadata": {},
     "output_type": "execute_result"
    }
   ],
   "source": [
    "len(fruits)"
   ]
  },
  {
   "cell_type": "code",
   "execution_count": 51,
   "id": "d5531761",
   "metadata": {},
   "outputs": [],
   "source": [
    "result = soup.select('.inventory')"
   ]
  },
  {
   "cell_type": "code",
   "execution_count": 52,
   "id": "d20b432f",
   "metadata": {},
   "outputs": [
    {
     "data": {
      "text/plain": [
       "(bs4.element.ResultSet, [<span class=\"inventory\"> 500개 </span>])"
      ]
     },
     "execution_count": 52,
     "metadata": {},
     "output_type": "execute_result"
    }
   ],
   "source": [
    "type(result),result"
   ]
  },
  {
   "cell_type": "code",
   "execution_count": 53,
   "id": "176ee6b4",
   "metadata": {},
   "outputs": [],
   "source": [
    "result = soup.select('span.price')"
   ]
  },
  {
   "cell_type": "code",
   "execution_count": 54,
   "id": "97cc1282",
   "metadata": {},
   "outputs": [
    {
     "data": {
      "text/plain": [
       "(bs4.element.ResultSet, [<span class=\"price\"> 3000원 </span>])"
      ]
     },
     "execution_count": 54,
     "metadata": {},
     "output_type": "execute_result"
    }
   ],
   "source": [
    "type(result),result"
   ]
  },
  {
   "cell_type": "code",
   "execution_count": 55,
   "id": "f131773e",
   "metadata": {},
   "outputs": [],
   "source": [
    "result = soup.select('p#fruits1 > span.name')"
   ]
  },
  {
   "cell_type": "code",
   "execution_count": 56,
   "id": "53d7e78f",
   "metadata": {},
   "outputs": [
    {
     "data": {
      "text/plain": [
       "[<span class=\"name\"> 바나나 </span>]"
      ]
     },
     "execution_count": 56,
     "metadata": {},
     "output_type": "execute_result"
    }
   ],
   "source": [
    "result"
   ]
  },
  {
   "cell_type": "code",
   "execution_count": 57,
   "id": "be453a6a",
   "metadata": {},
   "outputs": [
    {
     "name": "stdout",
     "output_type": "stream",
     "text": [
      "<span class=\"name\"> 바나나 </span>\n"
     ]
    }
   ],
   "source": [
    "# len (result)\n",
    "for tag in result:\n",
    "    print(tag)"
   ]
  },
  {
   "cell_type": "code",
   "execution_count": 58,
   "id": "7a54a4a9",
   "metadata": {},
   "outputs": [
    {
     "data": {
      "text/plain": [
       "<span class=\"name\"> 바나나 </span>"
      ]
     },
     "execution_count": 58,
     "metadata": {},
     "output_type": "execute_result"
    }
   ],
   "source": [
    "result[0]"
   ]
  },
  {
   "cell_type": "code",
   "execution_count": 59,
   "id": "6883d3f5",
   "metadata": {},
   "outputs": [],
   "source": [
    "s = result[0].text"
   ]
  },
  {
   "cell_type": "code",
   "execution_count": 60,
   "id": "0f4fd0e0",
   "metadata": {},
   "outputs": [
    {
     "data": {
      "text/plain": [
       "'바나나'"
      ]
     },
     "execution_count": 60,
     "metadata": {},
     "output_type": "execute_result"
    }
   ],
   "source": [
    "s.strip()"
   ]
  },
  {
   "cell_type": "code",
   "execution_count": 61,
   "id": "b256be6a",
   "metadata": {},
   "outputs": [
    {
     "data": {
      "text/plain": [
       "'바나나'"
      ]
     },
     "execution_count": 61,
     "metadata": {},
     "output_type": "execute_result"
    }
   ],
   "source": [
    "result[0].text.strip()"
   ]
  },
  {
   "cell_type": "code",
   "execution_count": 65,
   "id": "6d4b4c9b",
   "metadata": {},
   "outputs": [
    {
     "data": {
      "text/plain": [
       "list"
      ]
     },
     "execution_count": 65,
     "metadata": {},
     "output_type": "execute_result"
    }
   ],
   "source": [
    "type(result[0]['class']),"
   ]
  },
  {
   "cell_type": "code",
   "execution_count": 66,
   "id": "550e97d2",
   "metadata": {},
   "outputs": [
    {
     "data": {
      "text/plain": [
       "'name'"
      ]
     },
     "execution_count": 66,
     "metadata": {},
     "output_type": "execute_result"
    }
   ],
   "source": [
    "cls = result[0]['class']\n",
    "cls[0]"
   ]
  },
  {
   "cell_type": "code",
   "execution_count": 63,
   "id": "3fd3dcf1",
   "metadata": {},
   "outputs": [
    {
     "name": "stdout",
     "output_type": "stream",
     "text": [
      "바나나\n"
     ]
    }
   ],
   "source": [
    "for tag in result:\n",
    "    print(tag.text.strip())"
   ]
  },
  {
   "cell_type": "code",
   "execution_count": null,
   "id": "b7bc56b4",
   "metadata": {},
   "outputs": [],
   "source": []
  }
 ],
 "metadata": {
  "kernelspec": {
   "display_name": "Python 3",
   "language": "python",
   "name": "python3"
  },
  "language_info": {
   "codemirror_mode": {
    "name": "ipython",
    "version": 3
   },
   "file_extension": ".py",
   "mimetype": "text/x-python",
   "name": "python",
   "nbconvert_exporter": "python",
   "pygments_lexer": "ipython3",
   "version": "3.9.5"
  }
 },
 "nbformat": 4,
 "nbformat_minor": 5
}
