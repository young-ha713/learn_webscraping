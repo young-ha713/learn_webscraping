{
 "cells": [
  {
   "cell_type": "code",
   "execution_count": 1,
   "id": "526eff06",
   "metadata": {},
   "outputs": [],
   "source": [
    "from selenium import webdriver"
   ]
  },
  {
   "cell_type": "code",
   "execution_count": 2,
   "id": "b66090d2",
   "metadata": {},
   "outputs": [
    {
     "name": "stdout",
     "output_type": "stream",
     "text": [
      " C 드라이브의 볼륨에는 이름이 없습니다.\n",
      " 볼륨 일련 번호: FEC4-11B6\n",
      "\n",
      " C:\\Develops\\learn_webscraping 디렉터리\n",
      "\n",
      "2021-06-25  오전 09:47        11,107,328 chromedriver.exe\n",
      "               1개 파일          11,107,328 바이트\n",
      "               0개 디렉터리  85,188,481,024 바이트 남음\n"
     ]
    }
   ],
   "source": [
    "!dir .\\chromedriver.exe"
   ]
  },
  {
   "cell_type": "code",
   "execution_count": 3,
   "id": "f157170e",
   "metadata": {},
   "outputs": [],
   "source": [
    "browser = webdriver.Chrome('./chromedriver.exe')"
   ]
  },
  {
   "cell_type": "code",
   "execution_count": 4,
   "id": "429b9c78",
   "metadata": {},
   "outputs": [],
   "source": [
    "browser.get('https://www.genie.co.kr/chart/top200')"
   ]
  },
  {
   "cell_type": "code",
   "execution_count": 5,
   "id": "76b48168",
   "metadata": {},
   "outputs": [],
   "source": [
    "html = browser.page_source"
   ]
  },
  {
   "cell_type": "code",
   "execution_count": 6,
   "id": "f8958ce9",
   "metadata": {},
   "outputs": [],
   "source": [
    "from bs4 import BeautifulSoup"
   ]
  },
  {
   "cell_type": "code",
   "execution_count": 7,
   "id": "8441966a",
   "metadata": {},
   "outputs": [],
   "source": [
    "soup = BeautifulSoup(html, 'html.parser')"
   ]
  },
  {
   "cell_type": "code",
   "execution_count": 8,
   "id": "6604a0c8",
   "metadata": {},
   "outputs": [
    {
     "data": {
      "text/plain": [
       "(1, bs4.BeautifulSoup)"
      ]
     },
     "execution_count": 8,
     "metadata": {},
     "output_type": "execute_result"
    }
   ],
   "source": [
    "len(soup), type(soup)"
   ]
  },
  {
   "cell_type": "code",
   "execution_count": 9,
   "id": "7298c315",
   "metadata": {},
   "outputs": [],
   "source": [
    "tags = soup.select('td.info')"
   ]
  },
  {
   "cell_type": "code",
   "execution_count": 10,
   "id": "1598835b",
   "metadata": {},
   "outputs": [
    {
     "data": {
      "text/plain": [
       "(50, bs4.element.ResultSet)"
      ]
     },
     "execution_count": 10,
     "metadata": {},
     "output_type": "execute_result"
    }
   ],
   "source": [
    "len(tags), type(tags)"
   ]
  },
  {
   "cell_type": "code",
   "execution_count": 11,
   "id": "7359ea88",
   "metadata": {},
   "outputs": [],
   "source": [
    "tag = tags[0]"
   ]
  },
  {
   "cell_type": "markdown",
   "id": "9d708846",
   "metadata": {},
   "source": [
    "곡명: a.title, 가수이름:a.artist"
   ]
  },
  {
   "cell_type": "code",
   "execution_count": 12,
   "id": "b121b89a",
   "metadata": {},
   "outputs": [
    {
     "data": {
      "text/plain": [
       "(1, bs4.element.ResultSet)"
      ]
     },
     "execution_count": 12,
     "metadata": {},
     "output_type": "execute_result"
    }
   ],
   "source": [
    "title = tag.select(' a.title')\n",
    "len(title),type(title)"
   ]
  },
  {
   "cell_type": "code",
   "execution_count": 13,
   "id": "feb0a3fe",
   "metadata": {},
   "outputs": [
    {
     "data": {
      "text/plain": [
       "<a class=\"title ellipsis\" href=\"#\" onclick=\"fnPlaySong('93599531','1');return false;\" title=\"재생\">\n",
       "                                        \n",
       "                                            \n",
       "                                        \n",
       "                                        \n",
       "                                        \n",
       "                                        \n",
       "                                            \n",
       "                                                하루만 더</a>"
      ]
     },
     "execution_count": 13,
     "metadata": {},
     "output_type": "execute_result"
    }
   ],
   "source": [
    "title[0]"
   ]
  },
  {
   "cell_type": "code",
   "execution_count": 14,
   "id": "91fba526",
   "metadata": {},
   "outputs": [
    {
     "data": {
      "text/plain": [
       "'하루만 더'"
      ]
     },
     "execution_count": 14,
     "metadata": {},
     "output_type": "execute_result"
    }
   ],
   "source": [
    "title[0].text.strip()"
   ]
  },
  {
   "cell_type": "code",
   "execution_count": 15,
   "id": "df2e3bf3",
   "metadata": {},
   "outputs": [
    {
     "data": {
      "text/plain": [
       "(1, bs4.element.ResultSet)"
      ]
     },
     "execution_count": 15,
     "metadata": {},
     "output_type": "execute_result"
    }
   ],
   "source": [
    "artist = tag.select('a.artist')\n",
    "len(artist),type(artist)"
   ]
  },
  {
   "cell_type": "code",
   "execution_count": 16,
   "id": "3364a41f",
   "metadata": {},
   "outputs": [
    {
     "data": {
      "text/plain": [
       "<a class=\"artist ellipsis\" href=\"#\" onclick=\"fnViewArtist('14957679');return false;\">빅마마 (Big Mama)</a>"
      ]
     },
     "execution_count": 16,
     "metadata": {},
     "output_type": "execute_result"
    }
   ],
   "source": [
    "artist[0]"
   ]
  },
  {
   "cell_type": "code",
   "execution_count": 17,
   "id": "0a320383",
   "metadata": {
    "scrolled": true
   },
   "outputs": [
    {
     "data": {
      "text/plain": [
       "'빅마마 (Big Mama)'"
      ]
     },
     "execution_count": 17,
     "metadata": {},
     "output_type": "execute_result"
    }
   ],
   "source": [
    "artist[0].text.strip()"
   ]
  },
  {
   "cell_type": "markdown",
   "id": "3b99aa86",
   "metadata": {},
   "source": [
    "[\n",
    "    [title01,artist01],\n",
    "    []\n",
    "]"
   ]
  },
  {
   "cell_type": "code",
   "execution_count": 18,
   "id": "3fa016c5",
   "metadata": {},
   "outputs": [
    {
     "data": {
      "text/plain": [
       "[['하루만 더', '빅마마 (Big Mama)'],\n",
       " ['치맛바람 (Chi Mat Ba Ram)', '브레이브걸스 (Brave girls)'],\n",
       " ['Butter', '방탄소년단'],\n",
       " ['Next Level', 'aespa'],\n",
       " ['Alcohol-Free', 'TWICE (트와이스)'],\n",
       " ['비와 당신', '이무진'],\n",
       " ['헤픈 우연', '헤이즈 (Heize)'],\n",
       " ['Dun Dun Dance', '오마이걸 (OH MY GIRL)'],\n",
       " ['추적이는 여름 비가 되어', '장범준'],\n",
       " [\"롤린 (Rollin')\", '브레이브걸스 (Brave girls)'],\n",
       " ['안녕 (Hello)', '조이 (JOY)'],\n",
       " ['Peaches (Feat. Daniel Caesar & Giveon)', 'Justin Bieber'],\n",
       " ['라일락', '아이유 (IU)'],\n",
       " ['Dynamite', '방탄소년단'],\n",
       " ['운전만해 (We Ride)', '브레이브걸스 (Brave girls)'],\n",
       " ['Ready to love', '세븐틴 (SEVENTEEN)'],\n",
       " ['ASAP', 'STAYC (스테이씨)'],\n",
       " ['신호등', '이무진'],\n",
       " ['상상더하기', 'MSG워너비 TOP 8 (별루지 & 김정수 & 강창모 & 정기석 & 이동휘 & 이상이 & 박재정 & 원슈타인)'],\n",
       " ['Celebrity', '아이유 (IU)'],\n",
       " ['상상더하기', '라붐 (LABOUM)'],\n",
       " ['이제 나만 믿어요', '임영웅'],\n",
       " ['Timeless', 'SG워너비'],\n",
       " ['Savage Love (Laxed - Siren Beat) (BTS Remix)',\n",
       "  'Jawsh 685 & Jason Derulo & 방탄소년단'],\n",
       " ['다정히 내 이름을 부르면', '경서예지 & 전건호'],\n",
       " ['별빛 같은 나의 사랑아', '임영웅'],\n",
       " ['HERO', '임영웅'],\n",
       " ['어떤 말도 할 수가 없는 나인데', '케이시 (Kassy)'],\n",
       " ['작은 것들을 위한 시 (Boy With Luv) (Feat. Halsey)', '방탄소년단'],\n",
       " ['허리춤', '오반 (OVAN)'],\n",
       " ['다시 사랑한다면 (김필 Ver.)', '임영웅'],\n",
       " ['내 손을 잡아', '아이유 (IU)'],\n",
       " ['사이렌 Remix (Feat. UNEDUCATED KID & Paul Blanco)', '호미들'],\n",
       " ['At My Worst', 'Pink Sweat$'],\n",
       " ['봄날', '방탄소년단'],\n",
       " ['잊어야 한다는 마음으로', '임영웅'],\n",
       " ['계단말고 엘리베이터', '임영웅'],\n",
       " ['Anyone', '세븐틴 (SEVENTEEN)'],\n",
       " ['미워요', '임영웅'],\n",
       " ['Life Goes On', '방탄소년단'],\n",
       " ['LOVE DAY (2021) (바른연애 길잡이 X 양요섭, 정은지)', '양요섭 & 정은지'],\n",
       " [\"Heaven's Cloud\", '세븐틴 (SEVENTEEN)'],\n",
       " ['Coin', '아이유 (IU)'],\n",
       " ['흔들리는 꽃들 속에서 네 샴푸향이 느껴진거야', '장범준'],\n",
       " ['소나기', '임영웅'],\n",
       " ['마.피.아. In the morning', 'ITZY (있지)'],\n",
       " ['2002', 'Anne-Marie'],\n",
       " ['Off My Face', 'Justin Bieber'],\n",
       " ['내 입술 따뜻한 커피처럼', '청하 & Colde (콜드)'],\n",
       " ['아주 NICE', '세븐틴 (SEVENTEEN)']]"
      ]
     },
     "execution_count": 18,
     "metadata": {},
     "output_type": "execute_result"
    }
   ],
   "source": [
    "contents = []\n",
    "for tag in tags:\n",
    "    title = tag.select(' a.title')\n",
    "    artist = tag.select('a.artist')\n",
    "    #print(title[0].text.strip(),artist[0].text.strip())\n",
    "    song = [title[0].text.strip(),artist[0].text.strip()]\n",
    "    contents.append(song)\n",
    "    \n",
    "contents"
   ]
  },
  {
   "cell_type": "code",
   "execution_count": 19,
   "id": "fd268e40",
   "metadata": {},
   "outputs": [],
   "source": [
    "import pandas as pd"
   ]
  },
  {
   "cell_type": "code",
   "execution_count": 21,
   "id": "7edd3a65",
   "metadata": {},
   "outputs": [
    {
     "data": {
      "text/html": [
       "<div>\n",
       "<style scoped>\n",
       "    .dataframe tbody tr th:only-of-type {\n",
       "        vertical-align: middle;\n",
       "    }\n",
       "\n",
       "    .dataframe tbody tr th {\n",
       "        vertical-align: top;\n",
       "    }\n",
       "\n",
       "    .dataframe thead th {\n",
       "        text-align: right;\n",
       "    }\n",
       "</style>\n",
       "<table border=\"1\" class=\"dataframe\">\n",
       "  <thead>\n",
       "    <tr style=\"text-align: right;\">\n",
       "      <th></th>\n",
       "      <th>title</th>\n",
       "      <th>artist</th>\n",
       "    </tr>\n",
       "  </thead>\n",
       "  <tbody>\n",
       "    <tr>\n",
       "      <th>0</th>\n",
       "      <td>하루만 더</td>\n",
       "      <td>빅마마 (Big Mama)</td>\n",
       "    </tr>\n",
       "    <tr>\n",
       "      <th>1</th>\n",
       "      <td>치맛바람 (Chi Mat Ba Ram)</td>\n",
       "      <td>브레이브걸스 (Brave girls)</td>\n",
       "    </tr>\n",
       "    <tr>\n",
       "      <th>2</th>\n",
       "      <td>Butter</td>\n",
       "      <td>방탄소년단</td>\n",
       "    </tr>\n",
       "    <tr>\n",
       "      <th>3</th>\n",
       "      <td>Next Level</td>\n",
       "      <td>aespa</td>\n",
       "    </tr>\n",
       "    <tr>\n",
       "      <th>4</th>\n",
       "      <td>Alcohol-Free</td>\n",
       "      <td>TWICE (트와이스)</td>\n",
       "    </tr>\n",
       "    <tr>\n",
       "      <th>5</th>\n",
       "      <td>비와 당신</td>\n",
       "      <td>이무진</td>\n",
       "    </tr>\n",
       "    <tr>\n",
       "      <th>6</th>\n",
       "      <td>헤픈 우연</td>\n",
       "      <td>헤이즈 (Heize)</td>\n",
       "    </tr>\n",
       "    <tr>\n",
       "      <th>7</th>\n",
       "      <td>Dun Dun Dance</td>\n",
       "      <td>오마이걸 (OH MY GIRL)</td>\n",
       "    </tr>\n",
       "    <tr>\n",
       "      <th>8</th>\n",
       "      <td>추적이는 여름 비가 되어</td>\n",
       "      <td>장범준</td>\n",
       "    </tr>\n",
       "    <tr>\n",
       "      <th>9</th>\n",
       "      <td>롤린 (Rollin')</td>\n",
       "      <td>브레이브걸스 (Brave girls)</td>\n",
       "    </tr>\n",
       "    <tr>\n",
       "      <th>10</th>\n",
       "      <td>안녕 (Hello)</td>\n",
       "      <td>조이 (JOY)</td>\n",
       "    </tr>\n",
       "    <tr>\n",
       "      <th>11</th>\n",
       "      <td>Peaches (Feat. Daniel Caesar &amp; Giveon)</td>\n",
       "      <td>Justin Bieber</td>\n",
       "    </tr>\n",
       "    <tr>\n",
       "      <th>12</th>\n",
       "      <td>라일락</td>\n",
       "      <td>아이유 (IU)</td>\n",
       "    </tr>\n",
       "    <tr>\n",
       "      <th>13</th>\n",
       "      <td>Dynamite</td>\n",
       "      <td>방탄소년단</td>\n",
       "    </tr>\n",
       "    <tr>\n",
       "      <th>14</th>\n",
       "      <td>운전만해 (We Ride)</td>\n",
       "      <td>브레이브걸스 (Brave girls)</td>\n",
       "    </tr>\n",
       "    <tr>\n",
       "      <th>15</th>\n",
       "      <td>Ready to love</td>\n",
       "      <td>세븐틴 (SEVENTEEN)</td>\n",
       "    </tr>\n",
       "    <tr>\n",
       "      <th>16</th>\n",
       "      <td>ASAP</td>\n",
       "      <td>STAYC (스테이씨)</td>\n",
       "    </tr>\n",
       "    <tr>\n",
       "      <th>17</th>\n",
       "      <td>신호등</td>\n",
       "      <td>이무진</td>\n",
       "    </tr>\n",
       "    <tr>\n",
       "      <th>18</th>\n",
       "      <td>상상더하기</td>\n",
       "      <td>MSG워너비 TOP 8 (별루지 &amp; 김정수 &amp; 강창모 &amp; 정기석 &amp; 이동휘 &amp; 이상...</td>\n",
       "    </tr>\n",
       "    <tr>\n",
       "      <th>19</th>\n",
       "      <td>Celebrity</td>\n",
       "      <td>아이유 (IU)</td>\n",
       "    </tr>\n",
       "    <tr>\n",
       "      <th>20</th>\n",
       "      <td>상상더하기</td>\n",
       "      <td>라붐 (LABOUM)</td>\n",
       "    </tr>\n",
       "    <tr>\n",
       "      <th>21</th>\n",
       "      <td>이제 나만 믿어요</td>\n",
       "      <td>임영웅</td>\n",
       "    </tr>\n",
       "    <tr>\n",
       "      <th>22</th>\n",
       "      <td>Timeless</td>\n",
       "      <td>SG워너비</td>\n",
       "    </tr>\n",
       "    <tr>\n",
       "      <th>23</th>\n",
       "      <td>Savage Love (Laxed - Siren Beat) (BTS Remix)</td>\n",
       "      <td>Jawsh 685 &amp; Jason Derulo &amp; 방탄소년단</td>\n",
       "    </tr>\n",
       "    <tr>\n",
       "      <th>24</th>\n",
       "      <td>다정히 내 이름을 부르면</td>\n",
       "      <td>경서예지 &amp; 전건호</td>\n",
       "    </tr>\n",
       "    <tr>\n",
       "      <th>25</th>\n",
       "      <td>별빛 같은 나의 사랑아</td>\n",
       "      <td>임영웅</td>\n",
       "    </tr>\n",
       "    <tr>\n",
       "      <th>26</th>\n",
       "      <td>HERO</td>\n",
       "      <td>임영웅</td>\n",
       "    </tr>\n",
       "    <tr>\n",
       "      <th>27</th>\n",
       "      <td>어떤 말도 할 수가 없는 나인데</td>\n",
       "      <td>케이시 (Kassy)</td>\n",
       "    </tr>\n",
       "    <tr>\n",
       "      <th>28</th>\n",
       "      <td>작은 것들을 위한 시 (Boy With Luv) (Feat. Halsey)</td>\n",
       "      <td>방탄소년단</td>\n",
       "    </tr>\n",
       "    <tr>\n",
       "      <th>29</th>\n",
       "      <td>허리춤</td>\n",
       "      <td>오반 (OVAN)</td>\n",
       "    </tr>\n",
       "    <tr>\n",
       "      <th>30</th>\n",
       "      <td>다시 사랑한다면 (김필 Ver.)</td>\n",
       "      <td>임영웅</td>\n",
       "    </tr>\n",
       "    <tr>\n",
       "      <th>31</th>\n",
       "      <td>내 손을 잡아</td>\n",
       "      <td>아이유 (IU)</td>\n",
       "    </tr>\n",
       "    <tr>\n",
       "      <th>32</th>\n",
       "      <td>사이렌 Remix (Feat. UNEDUCATED KID &amp; Paul Blanco)</td>\n",
       "      <td>호미들</td>\n",
       "    </tr>\n",
       "    <tr>\n",
       "      <th>33</th>\n",
       "      <td>At My Worst</td>\n",
       "      <td>Pink Sweat$</td>\n",
       "    </tr>\n",
       "    <tr>\n",
       "      <th>34</th>\n",
       "      <td>봄날</td>\n",
       "      <td>방탄소년단</td>\n",
       "    </tr>\n",
       "    <tr>\n",
       "      <th>35</th>\n",
       "      <td>잊어야 한다는 마음으로</td>\n",
       "      <td>임영웅</td>\n",
       "    </tr>\n",
       "    <tr>\n",
       "      <th>36</th>\n",
       "      <td>계단말고 엘리베이터</td>\n",
       "      <td>임영웅</td>\n",
       "    </tr>\n",
       "    <tr>\n",
       "      <th>37</th>\n",
       "      <td>Anyone</td>\n",
       "      <td>세븐틴 (SEVENTEEN)</td>\n",
       "    </tr>\n",
       "    <tr>\n",
       "      <th>38</th>\n",
       "      <td>미워요</td>\n",
       "      <td>임영웅</td>\n",
       "    </tr>\n",
       "    <tr>\n",
       "      <th>39</th>\n",
       "      <td>Life Goes On</td>\n",
       "      <td>방탄소년단</td>\n",
       "    </tr>\n",
       "    <tr>\n",
       "      <th>40</th>\n",
       "      <td>LOVE DAY (2021) (바른연애 길잡이 X 양요섭, 정은지)</td>\n",
       "      <td>양요섭 &amp; 정은지</td>\n",
       "    </tr>\n",
       "    <tr>\n",
       "      <th>41</th>\n",
       "      <td>Heaven's Cloud</td>\n",
       "      <td>세븐틴 (SEVENTEEN)</td>\n",
       "    </tr>\n",
       "    <tr>\n",
       "      <th>42</th>\n",
       "      <td>Coin</td>\n",
       "      <td>아이유 (IU)</td>\n",
       "    </tr>\n",
       "    <tr>\n",
       "      <th>43</th>\n",
       "      <td>흔들리는 꽃들 속에서 네 샴푸향이 느껴진거야</td>\n",
       "      <td>장범준</td>\n",
       "    </tr>\n",
       "    <tr>\n",
       "      <th>44</th>\n",
       "      <td>소나기</td>\n",
       "      <td>임영웅</td>\n",
       "    </tr>\n",
       "    <tr>\n",
       "      <th>45</th>\n",
       "      <td>마.피.아. In the morning</td>\n",
       "      <td>ITZY (있지)</td>\n",
       "    </tr>\n",
       "    <tr>\n",
       "      <th>46</th>\n",
       "      <td>2002</td>\n",
       "      <td>Anne-Marie</td>\n",
       "    </tr>\n",
       "    <tr>\n",
       "      <th>47</th>\n",
       "      <td>Off My Face</td>\n",
       "      <td>Justin Bieber</td>\n",
       "    </tr>\n",
       "    <tr>\n",
       "      <th>48</th>\n",
       "      <td>내 입술 따뜻한 커피처럼</td>\n",
       "      <td>청하 &amp; Colde (콜드)</td>\n",
       "    </tr>\n",
       "    <tr>\n",
       "      <th>49</th>\n",
       "      <td>아주 NICE</td>\n",
       "      <td>세븐틴 (SEVENTEEN)</td>\n",
       "    </tr>\n",
       "  </tbody>\n",
       "</table>\n",
       "</div>"
      ],
      "text/plain": [
       "                                             title  \\\n",
       "0                                            하루만 더   \n",
       "1                            치맛바람 (Chi Mat Ba Ram)   \n",
       "2                                           Butter   \n",
       "3                                       Next Level   \n",
       "4                                     Alcohol-Free   \n",
       "5                                            비와 당신   \n",
       "6                                            헤픈 우연   \n",
       "7                                    Dun Dun Dance   \n",
       "8                                    추적이는 여름 비가 되어   \n",
       "9                                     롤린 (Rollin')   \n",
       "10                                      안녕 (Hello)   \n",
       "11          Peaches (Feat. Daniel Caesar & Giveon)   \n",
       "12                                             라일락   \n",
       "13                                        Dynamite   \n",
       "14                                  운전만해 (We Ride)   \n",
       "15                                   Ready to love   \n",
       "16                                            ASAP   \n",
       "17                                             신호등   \n",
       "18                                           상상더하기   \n",
       "19                                       Celebrity   \n",
       "20                                           상상더하기   \n",
       "21                                       이제 나만 믿어요   \n",
       "22                                        Timeless   \n",
       "23    Savage Love (Laxed - Siren Beat) (BTS Remix)   \n",
       "24                                   다정히 내 이름을 부르면   \n",
       "25                                    별빛 같은 나의 사랑아   \n",
       "26                                            HERO   \n",
       "27                               어떤 말도 할 수가 없는 나인데   \n",
       "28       작은 것들을 위한 시 (Boy With Luv) (Feat. Halsey)   \n",
       "29                                             허리춤   \n",
       "30                              다시 사랑한다면 (김필 Ver.)   \n",
       "31                                         내 손을 잡아   \n",
       "32  사이렌 Remix (Feat. UNEDUCATED KID & Paul Blanco)   \n",
       "33                                     At My Worst   \n",
       "34                                              봄날   \n",
       "35                                    잊어야 한다는 마음으로   \n",
       "36                                      계단말고 엘리베이터   \n",
       "37                                          Anyone   \n",
       "38                                             미워요   \n",
       "39                                    Life Goes On   \n",
       "40           LOVE DAY (2021) (바른연애 길잡이 X 양요섭, 정은지)   \n",
       "41                                  Heaven's Cloud   \n",
       "42                                            Coin   \n",
       "43                        흔들리는 꽃들 속에서 네 샴푸향이 느껴진거야   \n",
       "44                                             소나기   \n",
       "45                           마.피.아. In the morning   \n",
       "46                                            2002   \n",
       "47                                     Off My Face   \n",
       "48                                   내 입술 따뜻한 커피처럼   \n",
       "49                                         아주 NICE   \n",
       "\n",
       "                                               artist  \n",
       "0                                      빅마마 (Big Mama)  \n",
       "1                                브레이브걸스 (Brave girls)  \n",
       "2                                               방탄소년단  \n",
       "3                                               aespa  \n",
       "4                                        TWICE (트와이스)  \n",
       "5                                                 이무진  \n",
       "6                                         헤이즈 (Heize)  \n",
       "7                                   오마이걸 (OH MY GIRL)  \n",
       "8                                                 장범준  \n",
       "9                                브레이브걸스 (Brave girls)  \n",
       "10                                           조이 (JOY)  \n",
       "11                                      Justin Bieber  \n",
       "12                                           아이유 (IU)  \n",
       "13                                              방탄소년단  \n",
       "14                               브레이브걸스 (Brave girls)  \n",
       "15                                    세븐틴 (SEVENTEEN)  \n",
       "16                                       STAYC (스테이씨)  \n",
       "17                                                이무진  \n",
       "18  MSG워너비 TOP 8 (별루지 & 김정수 & 강창모 & 정기석 & 이동휘 & 이상...  \n",
       "19                                           아이유 (IU)  \n",
       "20                                        라붐 (LABOUM)  \n",
       "21                                                임영웅  \n",
       "22                                              SG워너비  \n",
       "23                   Jawsh 685 & Jason Derulo & 방탄소년단  \n",
       "24                                         경서예지 & 전건호  \n",
       "25                                                임영웅  \n",
       "26                                                임영웅  \n",
       "27                                        케이시 (Kassy)  \n",
       "28                                              방탄소년단  \n",
       "29                                          오반 (OVAN)  \n",
       "30                                                임영웅  \n",
       "31                                           아이유 (IU)  \n",
       "32                                                호미들  \n",
       "33                                        Pink Sweat$  \n",
       "34                                              방탄소년단  \n",
       "35                                                임영웅  \n",
       "36                                                임영웅  \n",
       "37                                    세븐틴 (SEVENTEEN)  \n",
       "38                                                임영웅  \n",
       "39                                              방탄소년단  \n",
       "40                                          양요섭 & 정은지  \n",
       "41                                    세븐틴 (SEVENTEEN)  \n",
       "42                                           아이유 (IU)  \n",
       "43                                                장범준  \n",
       "44                                                임영웅  \n",
       "45                                          ITZY (있지)  \n",
       "46                                         Anne-Marie  \n",
       "47                                      Justin Bieber  \n",
       "48                                    청하 & Colde (콜드)  \n",
       "49                                    세븐틴 (SEVENTEEN)  "
      ]
     },
     "execution_count": 21,
     "metadata": {},
     "output_type": "execute_result"
    }
   ],
   "source": [
    "pd_data = pd.DataFrame(contents, columns=['title', 'artist'])\n",
    "pd_data"
   ]
  },
  {
   "cell_type": "code",
   "execution_count": 22,
   "id": "7935d685",
   "metadata": {},
   "outputs": [
    {
     "name": "stderr",
     "output_type": "stream",
     "text": [
      "<ipython-input-22-4071227bf7d3>:1: FutureWarning: As the xlwt package is no longer maintained, the xlwt engine will be removed in a future version of pandas. This is the only engine in pandas that supports writing in the xls format. Install openpyxl and write to an xlsx file instead. You can set the option io.excel.xls.writer to 'xlwt' to silence this warning. While this option is deprecated and will also raise a warning, it can be globally set and the warning suppressed.\n",
      "  pd_data.to_excel('./saves/genie_scraping.xls', index=False)\n"
     ]
    }
   ],
   "source": [
    "pd_data.to_excel('./saves/genie_scraping.xls', index=False)"
   ]
  },
  {
   "cell_type": "code",
   "execution_count": null,
   "id": "3938a62e",
   "metadata": {},
   "outputs": [],
   "source": []
  }
 ],
 "metadata": {
  "kernelspec": {
   "display_name": "Python 3",
   "language": "python",
   "name": "python3"
  },
  "language_info": {
   "codemirror_mode": {
    "name": "ipython",
    "version": 3
   },
   "file_extension": ".py",
   "mimetype": "text/x-python",
   "name": "python",
   "nbconvert_exporter": "python",
   "pygments_lexer": "ipython3",
   "version": "3.9.5"
  }
 },
 "nbformat": 4,
 "nbformat_minor": 5
}
