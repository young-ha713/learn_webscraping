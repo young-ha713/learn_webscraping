{
 "cells": [
  {
   "cell_type": "code",
   "execution_count": 1,
   "id": "39e35419",
   "metadata": {},
   "outputs": [],
   "source": [
    "from selenium import webdriver"
   ]
  },
  {
   "cell_type": "code",
   "execution_count": 2,
   "id": "9f1d8406",
   "metadata": {},
   "outputs": [
    {
     "name": "stdout",
     "output_type": "stream",
     "text": [
      " C 드라이브의 볼륨에는 이름이 없습니다.\n",
      " 볼륨 일련 번호: FEC4-11B6\n",
      "\n",
      " C:\\Develops\\learn_webscraping 디렉터리\n",
      "\n",
      "2021-06-25  오전 09:47        11,107,328 chromedriver.exe\n",
      "               1개 파일          11,107,328 바이트\n",
      "               0개 디렉터리  75,421,802,496 바이트 남음\n"
     ]
    }
   ],
   "source": [
    "!dir .\\chromedriver.exe"
   ]
  },
  {
   "cell_type": "code",
   "execution_count": 3,
   "id": "24c94565",
   "metadata": {},
   "outputs": [],
   "source": [
    "browser = webdriver.Chrome('./chromedriver.exe')"
   ]
  },
  {
   "cell_type": "code",
   "execution_count": 4,
   "id": "4f5d836f",
   "metadata": {},
   "outputs": [],
   "source": [
    "browser.get('https://www.wadiz.kr/web/wreward/main?keyword=&endYn=Y&order=support')"
   ]
  },
  {
   "cell_type": "code",
   "execution_count": 5,
   "id": "3a56c4d4",
   "metadata": {},
   "outputs": [],
   "source": [
    "html=browser.page_source"
   ]
  },
  {
   "cell_type": "code",
   "execution_count": 6,
   "id": "295843b8",
   "metadata": {},
   "outputs": [],
   "source": [
    "from bs4 import BeautifulSoup \n"
   ]
  },
  {
   "cell_type": "code",
   "execution_count": 7,
   "id": "acf73c31",
   "metadata": {},
   "outputs": [],
   "source": [
    "soup = BeautifulSoup(html,'html.parser')"
   ]
  },
  {
   "cell_type": "code",
   "execution_count": 8,
   "id": "02bfbfd7",
   "metadata": {},
   "outputs": [
    {
     "name": "stdout",
     "output_type": "stream",
     "text": [
      "<class 'bs4.element.ResultSet'>\n"
     ]
    }
   ],
   "source": [
    "contents = soup.select('div[class^=RewardProjectListApp]')\n",
    "print(type(contents))\n"
   ]
  },
  {
   "cell_type": "code",
   "execution_count": 9,
   "id": "4afedba1",
   "metadata": {
    "collapsed": true
   },
   "outputs": [
    {
     "data": {
      "text/plain": [
       "[<strong>남성들을 위한 특별한 황홀템, 가즘 (GAZM)</strong>,\n",
       " <strong>[글로벌 최초 펀딩] 스마트워치가 3만원대? 가성비 끝판왕! 헬로우 솔라</strong>,\n",
       " <strong>아이즈원 리런칭을 위한 작은 한 걸음, 평행우주 프로젝트</strong>,\n",
       " <strong>스크럽과 보습을 한번에! 10년묵은 발각질, 굳은살 매끈하게! 아기발스틱</strong>,\n",
       " <strong>무선충전기의 영역을 넘었다, 카딱 스마트 무선고속충전기</strong>,\n",
       " <strong>음악이 들리는 선글라스 정글 팬써</strong>,\n",
       " <strong>[고단백/식단관리] 제주감귤 그래놀라ㅣ이제 다른 그래놀라는 못 먹을걸?</strong>,\n",
       " <strong>마진 0%! 백팩의 새로운 역사를 쓸 2만원대 백팩 [유닛백2]</strong>,\n",
       " <strong>[PaMu] 글로벌 10억 펀딩! 세계가 인정한 Hi-Fi 파뮤 이어폰</strong>,\n",
       " <strong>[5억/4.8]모공+쿨링+진정 임상특허 21개 샤르드&lt;ICE크림&gt;</strong>,\n",
       " <strong>더지니어스 흑과백, 보드게임으로 재탄생! 쉽고 빠르지만 가슴쫄깃한 구룡투</strong>,\n",
       " <strong>유.무선 이어폰 장점을 결합한 하이브리드 무선이어폰 PaMu Slide</strong>,\n",
       " <strong>[3만원대 무선 핸디형청소기] 자취방.사무실.자동차 \"청소가 쉬워져요\"</strong>,\n",
       " <strong>[아웃핏터] 손 안대고 다림질과 건조를 동시에? 세상에 없던 의류관리기!</strong>,\n",
       " <strong>반려동물의 건강과 멘탈 케어를! '바램 펫 피트니스 로봇'</strong>,\n",
       " <strong>가격마저 놀랍다! 디자이너 캐리어 &amp; 백팩, 샤플 Dr.Nah</strong>,\n",
       " <strong>범인은 이 안에 있어!당신의 추리 본능을 깨울 보드게임 &lt;서스펙트 게임&gt;</strong>,\n",
       " <strong>[모슈] 장시간 보온보냉! 넘어져도 새지 않는 실리콘 스트로우 텀블러</strong>,\n",
       " <strong>소녀를 기억하는 방법. 위안부 소녀상 세우기 캠페인</strong>,\n",
       " <strong>초음파 세척기 아직 모르시나요? 세균 제거 99.7%오염 완벽 세척!</strong>,\n",
       " <strong>[링티 복숭아] 군의관들의 링거워터가 신제품으로 돌아왔습니다!</strong>,\n",
       " <strong>[1억 앵콜] 드럼? 게임하듯 쉽게 따라하세요, 어느덧 나도 드럼고수!</strong>,\n",
       " <strong>[글로벌 45억 펀딩] 전 세계가 열광한 모바일 컬러프린터 '프린큐브'</strong>,\n",
       " <strong>세계최초의 폴딩형 역삼륜 전동킥보드 - TRANSBOARD</strong>,\n",
       " <strong>♠남다름의 띵작♠ 가장 완벽한 Ai 자동 무선 충전 거치대</strong>,\n",
       " <strong>베이직북14 : 대기업 노트북과 비교해보세요, 20만원대 파격 울트라북!</strong>,\n",
       " <strong>[천재가 설계한] 일본에선 없어서 못판다는 등골산뜻 쿨매트</strong>,\n",
       " <strong>[영주시]당뇨먹는 돼지감자(뚱딴지) 관사골을 부탁해^^</strong>,\n",
       " <strong>폰카도 고퀄로 만들어버리는 요술봉, 에버스틱</strong>,\n",
       " <strong>[킬리X여행에미치다] 청춘들을 위한 리얼 여행배낭 제작 프로젝트</strong>,\n",
       " <strong>비긴어게인 영철버거 프로젝트</strong>,\n",
       " <strong>추억을 담는 7 in 1 촬영 디바이스 : 셀디</strong>,\n",
       " <strong>흡연자를 위한 혁신적인 재떨이혁명. 카딱 스마트재떨이</strong>,\n",
       " <strong>Perfume Teller로 찾는 나만의 향기 - 파펨</strong>,\n",
       " <strong>불편하셨죠? 이젠 편하고 안전하게 보면서 직접 관리하세요 이어팝 으로 </strong>,\n",
       " <strong>유기견보호소 &lt;내사랑바둑이&gt;의 철거와 이사 이야기</strong>,\n",
       " <strong>기능성 베개가 이 가격? 50만개 라텍스 후레이크로 만든 [우유베개]</strong>,\n",
       " <strong> [1.8억 앵콜] 써 본 마스크 중 최고네요. 성능도 착용감도 저세상급</strong>,\n",
       " <strong>식사의 새로운 패러다임! 마시는 액상형 식사, 밀스 드링크</strong>,\n",
       " <strong>[패션ㆍ잡화 역대 1위 펀딩] 99%를 위해 만들어진 1%의 램스킨 자켓</strong>,\n",
       " <strong>3000원의 행복! 한국자체개발 마스크스트랩 투명 마스크줄 Maskzul</strong>,\n",
       " <strong>[만족도 1위 선풍기] 아직도 들고 다녀? \"땀쟁이 필수템\" 넥밴드선풍기</strong>,\n",
       " <strong>[글로벌 5억] 100년간 변하지 않은 와이퍼의 혁신ㅣ킴블레이드</strong>,\n",
       " <strong>변기 오염/세균/물때, 물내림으로 청소 끝! 이제, 변기청소 간편하게</strong>,\n",
       " <strong>37억 펀딩! Hi-Fi 무선충전 블루투스 이어폰 '파뮤스크롤'</strong>,\n",
       " <strong>튼튼한 고정력, 넉넉한 수납력에 무선충전까지! 차량용 클로버 멀티 컵홀더</strong>,\n",
       " <strong>18시간 보냉되는 알렉스텀블러, 여름에도 ALEX와 함께하세요!</strong>,\n",
       " <strong>[2억 앵콜] 100년간 변하지 않은 자동차 와이퍼의 혁신ㅣ킴블레이드</strong>]"
      ]
     },
     "execution_count": 9,
     "metadata": {},
     "output_type": "execute_result"
    }
   ],
   "source": [
    "title =soup.select('strong')\n",
    "title"
   ]
  },
  {
   "cell_type": "code",
   "execution_count": 10,
   "id": "2e0c10b9",
   "metadata": {},
   "outputs": [
    {
     "data": {
      "text/plain": [
       "(48, bs4.element.ResultSet)"
      ]
     },
     "execution_count": 10,
     "metadata": {},
     "output_type": "execute_result"
    }
   ],
   "source": [
    "len(title), type(title)"
   ]
  },
  {
   "cell_type": "code",
   "execution_count": 11,
   "id": "bd6c097b",
   "metadata": {},
   "outputs": [
    {
     "ename": "NameError",
     "evalue": "name 'content' is not defined",
     "output_type": "error",
     "traceback": [
      "\u001b[1;31m---------------------------------------------------------------------------\u001b[0m",
      "\u001b[1;31mNameError\u001b[0m                                 Traceback (most recent call last)",
      "\u001b[1;32m<ipython-input-11-553b56be8447>\u001b[0m in \u001b[0;36m<module>\u001b[1;34m\u001b[0m\n\u001b[1;32m----> 1\u001b[1;33m \u001b[0mproduct\u001b[0m\u001b[1;33m=\u001b[0m\u001b[0mcontent\u001b[0m\u001b[1;33m.\u001b[0m\u001b[0mselect\u001b[0m\u001b[1;33m(\u001b[0m\u001b[1;34m'p.commomCard-title'\u001b[0m\u001b[1;33m)\u001b[0m\u001b[1;33m[\u001b[0m\u001b[1;36m0\u001b[0m\u001b[1;33m]\u001b[0m\u001b[1;33m\u001b[0m\u001b[1;33m\u001b[0m\u001b[0m\n\u001b[0m\u001b[0;32m      2\u001b[0m \u001b[0mproduct\u001b[0m\u001b[1;33m\u001b[0m\u001b[1;33m\u001b[0m\u001b[0m\n",
      "\u001b[1;31mNameError\u001b[0m: name 'content' is not defined"
     ]
    }
   ],
   "source": [
    "product=content.select('p.commomCard-title')[0]\n",
    "product"
   ]
  },
  {
   "cell_type": "code",
   "execution_count": null,
   "id": "b64354c0",
   "metadata": {},
   "outputs": [],
   "source": [
    "#title[0].text.strip()"
   ]
  },
  {
   "cell_type": "code",
   "execution_count": null,
   "id": "e56147c7",
   "metadata": {},
   "outputs": [],
   "source": [
    "#shop = [] # or list()\n",
    "#for i in contents:\n",
    "    #title = contents.select('div[class^=RewardProjectListApp]')[0]\n",
    "    #shop.append([title.text.strip()])"
   ]
  },
  {
   "cell_type": "code",
   "execution_count": null,
   "id": "c4107e48",
   "metadata": {},
   "outputs": [],
   "source": []
  }
 ],
 "metadata": {
  "kernelspec": {
   "display_name": "Python 3",
   "language": "python",
   "name": "python3"
  },
  "language_info": {
   "codemirror_mode": {
    "name": "ipython",
    "version": 3
   },
   "file_extension": ".py",
   "mimetype": "text/x-python",
   "name": "python",
   "nbconvert_exporter": "python",
   "pygments_lexer": "ipython3",
   "version": "3.9.6"
  }
 },
 "nbformat": 4,
 "nbformat_minor": 5
}
